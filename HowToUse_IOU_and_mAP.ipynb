{
 "cells": [
  {
   "cell_type": "markdown",
   "metadata": {},
   "source": [
    "# IOU および mAPの使い方"
   ]
  },
  {
   "cell_type": "code",
   "execution_count": 1149,
   "metadata": {},
   "outputs": [],
   "source": [
    "import numpy as np\n",
    "import matplotlib.pyplot as plt\n",
    "import pandas as pd\n",
    "import seaborn as sns\n",
    "import os\n",
    "import pathlib\n",
    "from pprint import pprint\n",
    "\n",
    "#img\n",
    "import cv2\n",
    "#pytorch\n",
    "import torch\n",
    "from torch import nn\n",
    "from torch import functional as F\n",
    "from torch import optim\n",
    "from torch.utils.data import Dataset,DataLoader,random_split\n",
    "from torchvision import transforms\n",
    "from torch.nn import Module\n",
    "from torchvision import models\n",
    "from PIL import Image"
   ]
  },
  {
   "cell_type": "code",
   "execution_count": 1151,
   "metadata": {},
   "outputs": [
    {
     "data": {
      "image/png": "[encoded data removed]",
      "text/plain": [
       "<Figure size 432x288 with 1 Axes>"
      ]
     },
     "metadata": {},
     "output_type": "display_data"
    }
   ],
   "source": [
    "#ブランク画像の作成方法\n",
    "height = 100\n",
    "width = 200\n",
    "blank = np.zeros((height, width, 3))\n",
    "\n",
    "plt.imshow(blank)\n",
    "plt.show()"
   ]
  },
  {
   "cell_type": "code",
   "execution_count": 1152,
   "metadata": {},
   "outputs": [
    {
     "name": "stderr",
     "output_type": "stream",
     "text": [
      "Clipping input data to the valid range for imshow with RGB data ([0..1] for floats or [0..255] for integers).\n"
     ]
    },
    {
     "data": {
      "image/png": "[encoded data removed]",
      "text/plain": [
       "<Figure size 432x288 with 1 Axes>"
      ]
     },
     "metadata": {},
     "output_type": "display_data"
    }
   ],
   "source": [
    "#ブランク画像 white\n",
    "height = 100\n",
    "width = 200\n",
    "blank = np.zeros((height, width, 3))\n",
    "blank += 255 #←全ゼロデータに255を足してホワイトにする\n",
    "\n",
    "white_blank=blank\n",
    "plt.imshow(white_blank)\n",
    "plt.show()"
   ]
  },
  {
   "cell_type": "markdown",
   "metadata": {},
   "source": [
    "## 参考： Named Tuppleの使い方\n",
    "\n",
    "\n",
    "### Named Tuppleには２つの使い方がある\n",
    "\n",
    "違いについては以下参照\\\n",
    "https://stackoverflow.com/questions/50766461/whats-the-difference-between-namedtuple-and-namedtuple\n",
    "\n",
    "python 3.7以上であればどちらでも可能か\n",
    "\n",
    "The type generated by subclassing typing.NamedTuple is equivalent to a collections.namedtuple, but with __annotations__, _field_types and _field_defaults attributes added. The generated code will behave the same, for all practical purposes, since nothing in Python currently acts on those typing related attributes (your IDE might use them, though).\n",
    "\n",
    "As a developer, using the typing module for your namedtuples allows a more natural declarative interface:\n",
    "\n",
    ">You can easily specify default values for the fields (edit: in Python 3.7, collections.namedtuple got a new defaults keyword so this is no longer an advantage)\n",
    "You don't need to repeat the type name twice (\"Employee\")\n",
    "You can customize the type directly (e.g. adding a docstring or some methods)\n",
    "As before, your class will be a subclass of tuple, and instances will be instances of tuple as usual. Interestingly, your class will not be a subclass of NamedTuple:"
   ]
  },
  {
   "cell_type": "code",
   "execution_count": 1180,
   "metadata": {},
   "outputs": [
    {
     "name": "stdout",
     "output_type": "stream",
     "text": [
      "Point(x=11, y=22)\n",
      "33\n",
      "11 22\n"
     ]
    }
   ],
   "source": [
    "# 基本的な使い方\n",
    "from collections import namedtuple\n",
    "\n",
    "Point = namedtuple('Point', ['x', 'y'])\n",
    "p = Point(11, y=22)     # instantiate with positional or keyword arguments\n",
    "\n",
    "print(p)\n",
    "print(p[0]+p[1])\n",
    "print(p.x,p.y)"
   ]
  },
  {
   "cell_type": "code",
   "execution_count": 1181,
   "metadata": {},
   "outputs": [
    {
     "name": "stdout",
     "output_type": "stream",
     "text": [
      "Employee(name='jon', id=2)\n"
     ]
    }
   ],
   "source": [
    "from typing import NamedTuple\n",
    "\n",
    "#こちらの場合の使用方法だと型の指定が可能\n",
    "class Employee(NamedTuple):\n",
    "    name: str\n",
    "    id: int\n",
    "    \n",
    "e=Employee(name=\"jon\",id=2)\n",
    "print(e)"
   ]
  },
  {
   "cell_type": "code",
   "execution_count": 1182,
   "metadata": {},
   "outputs": [
    {
     "name": "stdout",
     "output_type": "stream",
     "text": [
      "Employee(name='jon', id=2)\n"
     ]
    }
   ],
   "source": [
    "#こちらでも同じ出力が可能\n",
    "from collections import namedtuple\n",
    "\n",
    "Employee = namedtuple('Employee', ['name', 'id'])\n",
    "e=Employee(name=\"jon\",id=2)\n",
    "print(e)"
   ]
  },
  {
   "cell_type": "markdown",
   "metadata": {},
   "source": [
    "# IOUの基本\n",
    "\n",
    "[reference]\n",
    "https://www.pyimagesearch.com/2016/11/07/intersection-over-union-iou-for-object-detection/\n"
   ]
  },
  {
   "cell_type": "code",
   "execution_count": 1183,
   "metadata": {},
   "outputs": [],
   "source": [
    "def bb_intersection_over_union(boxA, boxB):\n",
    "    # determine the (x, y)-coordinates of the intersection rectangle\n",
    "    xA = max(boxA[0], boxB[0])\n",
    "    yA = max(boxA[1], boxB[1])\n",
    "    xB = min(boxA[2], boxB[2])\n",
    "    yB = min(boxA[3], boxB[3])\n",
    "    # compute the area of intersection rectangle\n",
    "    interArea = max(0, xB - xA + 1) * max(0, yB - yA + 1)\n",
    "    # compute the area of both the prediction and ground-truth\n",
    "    # rectangles\n",
    "    boxAArea = (boxA[2] - boxA[0] + 1) * (boxA[3] - boxA[1] + 1)\n",
    "    boxBArea = (boxB[2] - boxB[0] + 1) * (boxB[3] - boxB[1] + 1)\n",
    "    # compute the intersection over union by taking the intersection\n",
    "    # area and dividing it by the sum of prediction + ground-truth\n",
    "    # areas - the interesection area\n",
    "    iou = interArea / float(boxAArea + boxBArea - interArea)\n",
    "    # return the intersection over union value\n",
    "    return iou"
   ]
  },
  {
   "cell_type": "code",
   "execution_count": 1184,
   "metadata": {},
   "outputs": [
    {
     "data": {
      "text/plain": [
       "(300, 300, 3)"
      ]
     },
     "execution_count": 1184,
     "metadata": {},
     "output_type": "execute_result"
    }
   ],
   "source": [
    "#ブランク画像を作成\n",
    "height = 300\n",
    "width = 300\n",
    "#黒画像を作成\n",
    "blank = np.zeros((height, width, 3))\n",
    "\n",
    "temp=blank.copy()\n",
    "temp.shape"
   ]
  },
  {
   "cell_type": "code",
   "execution_count": 1185,
   "metadata": {},
   "outputs": [
    {
     "data": {
      "text/plain": [
       "Point(x=11, y=22)"
      ]
     },
     "execution_count": 1185,
     "metadata": {},
     "output_type": "execute_result"
    }
   ],
   "source": [
    "# Basic example\n",
    "Point = namedtuple('Point', ['x', 'y'])\n",
    "p = Point(11, y=22)     # instantiate with positional or keyword arguments\n",
    "p"
   ]
  },
  {
   "cell_type": "code",
   "execution_count": 1186,
   "metadata": {},
   "outputs": [
    {
     "data": {
      "text/plain": [
       "(11, 22)"
      ]
     },
     "execution_count": 1186,
     "metadata": {},
     "output_type": "execute_result"
    }
   ],
   "source": [
    "temp=[Point(11,22),Point(22,33)]\n",
    "temp[0].x,y\n",
    "#あくまでもアクセスは上記のようにアクセスする必要があると＞"
   ]
  },
  {
   "cell_type": "code",
   "execution_count": 1187,
   "metadata": {},
   "outputs": [],
   "source": [
    "detection = namedtuple(\"img\",[\"gt\", \"pred\"])\n",
    "\n",
    "ex=[\n",
    "    detection(gt=[39, 63, 203, 112],pred=[54, 66, 198, 114]),\n",
    "    detection(gt=[49, 75, 203, 125],pred=[42, 78, 186, 126]),\n",
    "    ]"
   ]
  },
  {
   "cell_type": "code",
   "execution_count": 1188,
   "metadata": {},
   "outputs": [
    {
     "name": "stdout",
     "output_type": "stream",
     "text": [
      "[39, 63, 203, 112]\n",
      "[54, 66, 198, 114]\n"
     ]
    }
   ],
   "source": [
    "#個別にデータを取得したい場合は以下\n",
    "print(ex[0].gt)\n",
    "print(ex[0].pred)"
   ]
  },
  {
   "cell_type": "code",
   "execution_count": 1190,
   "metadata": {},
   "outputs": [
    {
     "name": "stderr",
     "output_type": "stream",
     "text": [
      "Clipping input data to the valid range for imshow with RGB data ([0..1] for floats or [0..255] for integers).\n"
     ]
    },
    {
     "data": {
      "image/png": "[encoded data removed]",
      "text/plain": [
       "<Figure size 720x720 with 1 Axes>"
      ]
     },
     "metadata": {},
     "output_type": "display_data"
    }
   ],
   "source": [
    "#set img\n",
    "temp_img=blank.copy()\n",
    "\n",
    "#True bboxを描画する\n",
    "cv2.rectangle(temp_img,\n",
    "              tuple(ex[0].gt[:2]),\n",
    "              tuple(ex[0].gt[2:]), (0, 255, 0), 2)\n",
    "#pred bbox\n",
    "cv2.rectangle(temp_img,\n",
    "              tuple(ex[0].pred[:2]),\n",
    "              tuple(ex[0].pred[2:]), (255,0, 0), 2)\n",
    "\n",
    "plt.figure(figsize=(10,10))\n",
    "\n",
    "plt.imshow(temp_img)\n",
    "plt.show()"
   ]
  },
  {
   "cell_type": "markdown",
   "metadata": {},
   "source": [
    "# IOU sample code 1"
   ]
  },
  {
   "cell_type": "code",
   "execution_count": 1191,
   "metadata": {},
   "outputs": [],
   "source": [
    "def bb_intersection_over_union(boxA, boxB):\n",
    "    # determine the (x, y)-coordinates of the intersection rectangle\n",
    "    xA = max(boxA[0], boxB[0])\n",
    "    yA = max(boxA[1], boxB[1])\n",
    "    xB = min(boxA[2], boxB[2])\n",
    "    yB = min(boxA[3], boxB[3])\n",
    "    # compute the area of intersection rectangle\n",
    "    interArea = max(0, xB - xA + 1) * max(0, yB - yA + 1)\n",
    "    # compute the area of both the prediction and ground-truth\n",
    "    # rectangles\n",
    "    boxAArea = (boxA[2] - boxA[0] + 1) * (boxA[3] - boxA[1] + 1)\n",
    "    boxBArea = (boxB[2] - boxB[0] + 1) * (boxB[3] - boxB[1] + 1)\n",
    "    # compute the intersection over union by taking the intersection\n",
    "    # area and dividing it by the sum of prediction + ground-truth\n",
    "    # areas - the interesection area\n",
    "    iou = interArea / float(boxAArea + boxBArea - interArea)\n",
    "    # return the intersection over union value\n",
    "    return iou"
   ]
  },
  {
   "cell_type": "code",
   "execution_count": 1192,
   "metadata": {},
   "outputs": [
    {
     "name": "stdout",
     "output_type": "stream",
     "text": [
      "0.7980093676814989\n",
      "img(gt=[39, 63, 203, 112], pred=[54, 66, 198, 114]):,---IOU:0.7980\n"
     ]
    }
   ],
   "source": [
    "# compute the intersection over union and display it\n",
    "iou = bb_intersection_over_union(ex[0].gt, ex[0].pred)\n",
    "print(iou)\n",
    "cv2.putText(temp_img, \"IoU: {:.4f}\".format(iou), (10, 30),\n",
    "    cv2.FONT_HERSHEY_SIMPLEX, 0.6, (0, 255, 0), 2)\n",
    "print(\"{}:,---IOU:{:.4f}\".format(ex[0], iou))"
   ]
  },
  {
   "cell_type": "code",
   "execution_count": 1193,
   "metadata": {},
   "outputs": [
    {
     "data": {
      "text/plain": [
       "img(gt=[39, 63, 203, 112], pred=[54, 66, 198, 114])"
      ]
     },
     "execution_count": 1193,
     "metadata": {},
     "output_type": "execute_result"
    }
   ],
   "source": [
    "detection = namedtuple(\"img\",[\"gt\", \"pred\"])\n",
    "\n",
    "#gt:grand truth　正当のbouding boxデータ\n",
    "#pred：predictで出力されたbounding boxデータ\n",
    "ex=[\n",
    "    detection(gt=[39, 63, 203, 112],pred=[54, 66, 198, 114]),\n",
    "    detection(gt=[75, 200, 120, 252],pred= [76, 210, 128, 266],),\n",
    "    ]\n",
    "ex[0]\n",
    "#上記でアクセス可能。"
   ]
  },
  {
   "cell_type": "code",
   "execution_count": 1194,
   "metadata": {},
   "outputs": [
    {
     "name": "stderr",
     "output_type": "stream",
     "text": [
      "Clipping input data to the valid range for imshow with RGB data ([0..1] for floats or [0..255] for integers).\n"
     ]
    },
    {
     "name": "stdout",
     "output_type": "stream",
     "text": [
      "box0:,IOU:0.7980093676814989\n",
      "box1:,IOU:0.5490919409761634\n"
     ]
    },
    {
     "data": {
      "image/png": "[encoded data removed]",
      "text/plain": [
       "<Figure size 720x720 with 1 Axes>"
      ]
     },
     "metadata": {},
     "output_type": "display_data"
    }
   ],
   "source": [
    "#set img\n",
    "temp_img=blank.copy()\n",
    "\n",
    "for i in range(len(ex)):\n",
    "    #True bbox\n",
    "    cv2.rectangle(temp_img,\n",
    "              tuple(ex[i].gt[:2]),\n",
    "              tuple(ex[i].gt[2:]), (0, 255, 0), 2)\n",
    "    #pred bbox\n",
    "    cv2.rectangle(temp_img,\n",
    "              tuple(ex[i].pred[:2]),\n",
    "              tuple(ex[i].pred[2:]), (255,0, 0), 2)\n",
    "\n",
    "    iou = bb_intersection_over_union(ex[i].gt, ex[i].pred)\n",
    "    print(\"box{}:,IOU:{}\".format(i,iou))\n",
    "\n",
    "#plot\n",
    "plt.figure(figsize=(10,10))\n",
    "plt.imshow(temp_img)\n",
    "plt.show()"
   ]
  },
  {
   "cell_type": "markdown",
   "metadata": {},
   "source": [
    "## 2.sample code 2 IOU and mAPの取得、出力が可能。\n",
    "\n",
    "[reference]\n",
    "https://gist.github.com/tarlen5/008809c3decf19313de216b9208f3734\n",
    "\n",
    "出力するために必要な値：\n",
    "true bounding box:\n",
    ">bounding box list[x,y,w,h]\n",
    "\n",
    "pred data:\n",
    ">1.pred_bounding box list[x,y,w,h]\\\n",
    ">2.pred confridence\\\n",
    "上記２つが必要となる。"
   ]
  },
  {
   "cell_type": "markdown",
   "metadata": {},
   "source": [
    "# read Json code"
   ]
  },
  {
   "cell_type": "code",
   "execution_count": 1195,
   "metadata": {
    "jupyter": {
     "source_hidden": true
    }
   },
   "outputs": [],
   "source": [
    "#https://gist.github.com/tarlen5/008809c3decf19313de216b9208f3734のコード\n",
    "#jsonデータからのIOU、mAPの出力まで可能。\n",
    "\n",
    "\n",
    "from copy import deepcopy\n",
    "import json\n",
    "import glob\n",
    "import os\n",
    "import time\n",
    "\n",
    "import matplotlib.pyplot as plt\n",
    "import numpy as np\n",
    "import pandas as pd\n",
    "import seaborn as sns\n",
    "\n",
    "sns.set_style('white')\n",
    "sns.set_context('poster')\n",
    "\n",
    "COLORS = [\n",
    "    '#1f77b4', '#aec7e8', '#ff7f0e', '#ffbb78', '#2ca02c',\n",
    "    '#98df8a', '#d62728', '#ff9896', '#9467bd', '#c5b0d5',\n",
    "    '#8c564b', '#c49c94', '#e377c2', '#f7b6d2', '#7f7f7f',\n",
    "    '#c7c7c7', '#bcbd22', '#dbdb8d', '#17becf', '#9edae5']\n",
    "\n",
    "\n",
    "def calc_iou_individual(pred_box, gt_box):\n",
    "    \"\"\"Calculate IoU of single predicted and ground truth box\n",
    "    Args:\n",
    "        pred_box (list of floats): location of predicted object as\n",
    "            [xmin, ymin, xmax, ymax]\n",
    "        gt_box (list of floats): location of ground truth object as\n",
    "            [xmin, ymin, xmax, ymax]\n",
    "    Returns:\n",
    "        float: value of the IoU for the two boxes.\n",
    "    Raises:\n",
    "        AssertionError: if the box is obviously malformed\n",
    "    \"\"\"\n",
    "    x1_t, y1_t, x2_t, y2_t = gt_box\n",
    "    x1_p, y1_p, x2_p, y2_p = pred_box\n",
    "\n",
    "    if (x1_p > x2_p) or (y1_p > y2_p):\n",
    "        raise AssertionError(\n",
    "            \"Prediction box is malformed? pred box: {}\".format(pred_box))\n",
    "    if (x1_t > x2_t) or (y1_t > y2_t):\n",
    "        raise AssertionError(\n",
    "            \"Ground Truth box is malformed? true box: {}\".format(gt_box))\n",
    "\n",
    "    if (x2_t < x1_p or x2_p < x1_t or y2_t < y1_p or y2_p < y1_t):\n",
    "        return 0.0\n",
    "\n",
    "    far_x = np.min([x2_t, x2_p])\n",
    "    near_x = np.max([x1_t, x1_p])\n",
    "    far_y = np.min([y2_t, y2_p])\n",
    "    near_y = np.max([y1_t, y1_p])\n",
    "\n",
    "    inter_area = (far_x - near_x + 1) * (far_y - near_y + 1)\n",
    "    true_box_area = (x2_t - x1_t + 1) * (y2_t - y1_t + 1)\n",
    "    pred_box_area = (x2_p - x1_p + 1) * (y2_p - y1_p + 1)\n",
    "    iou = inter_area / (true_box_area + pred_box_area - inter_area)\n",
    "    return iou\n",
    "\n",
    "\n",
    "def get_single_image_results(gt_boxes, pred_boxes, iou_thr):\n",
    "    \"\"\"Calculates number of true_pos, false_pos, false_neg from single batch of boxes.\n",
    "    Args:\n",
    "        gt_boxes (list of list of floats): list of locations of ground truth\n",
    "            objects as [xmin, ymin, xmax, ymax]\n",
    "        pred_boxes (dict): dict of dicts of 'boxes' (formatted like `gt_boxes`)\n",
    "            and 'scores'\n",
    "        iou_thr (float): value of IoU to consider as threshold for a\n",
    "            true prediction.\n",
    "    Returns:\n",
    "        dict: true positives (int), false positives (int), false negatives (int)\n",
    "    \"\"\"\n",
    "\n",
    "    all_pred_indices = range(len(pred_boxes))\n",
    "    all_gt_indices = range(len(gt_boxes))\n",
    "    if len(all_pred_indices) == 0:\n",
    "        tp = 0\n",
    "        fp = 0\n",
    "        fn = len(gt_boxes)\n",
    "        return {'true_pos': tp, 'false_pos': fp, 'false_neg': fn}\n",
    "    if len(all_gt_indices) == 0:\n",
    "        tp = 0\n",
    "        fp = len(pred_boxes)\n",
    "        fn = 0\n",
    "        return {'true_pos': tp, 'false_pos': fp, 'false_neg': fn}\n",
    "\n",
    "    gt_idx_thr = []\n",
    "    pred_idx_thr = []\n",
    "    ious = []\n",
    "    for ipb, pred_box in enumerate(pred_boxes):\n",
    "        for igb, gt_box in enumerate(gt_boxes):\n",
    "            iou = calc_iou_individual(pred_box, gt_box)\n",
    "            if iou > iou_thr:\n",
    "                gt_idx_thr.append(igb)\n",
    "                pred_idx_thr.append(ipb)\n",
    "                ious.append(iou)\n",
    "\n",
    "    args_desc = np.argsort(ious)[::-1]\n",
    "    if len(args_desc) == 0:\n",
    "        # No matches\n",
    "        tp = 0\n",
    "        fp = len(pred_boxes)\n",
    "        fn = len(gt_boxes)\n",
    "    else:\n",
    "        gt_match_idx = []\n",
    "        pred_match_idx = []\n",
    "        for idx in args_desc:\n",
    "            gt_idx = gt_idx_thr[idx]\n",
    "            pr_idx = pred_idx_thr[idx]\n",
    "            # If the boxes are unmatched, add them to matches\n",
    "            if (gt_idx not in gt_match_idx) and (pr_idx not in pred_match_idx):\n",
    "                gt_match_idx.append(gt_idx)\n",
    "                pred_match_idx.append(pr_idx)\n",
    "        tp = len(gt_match_idx)\n",
    "        fp = len(pred_boxes) - len(pred_match_idx)\n",
    "        fn = len(gt_boxes) - len(gt_match_idx)\n",
    "\n",
    "    return {'true_pos': tp, 'false_pos': fp, 'false_neg': fn}\n",
    "\n",
    "\n",
    "def calc_precision_recall(img_results):\n",
    "    \"\"\"Calculates precision and recall from the set of images\n",
    "    Args:\n",
    "        img_results (dict): dictionary formatted like:\n",
    "            {\n",
    "                'img_id1': {'true_pos': int, 'false_pos': int, 'false_neg': int},\n",
    "                'img_id2': ...\n",
    "                ...\n",
    "            }\n",
    "    Returns:\n",
    "        tuple: of floats of (precision, recall)\n",
    "    \"\"\"\n",
    "    true_pos = 0; false_pos = 0; false_neg = 0\n",
    "    for _, res in img_results.items():\n",
    "        true_pos += res['true_pos']\n",
    "        false_pos += res['false_pos']\n",
    "        false_neg += res['false_neg']\n",
    "\n",
    "    try:\n",
    "        precision = true_pos/(true_pos + false_pos)\n",
    "    except ZeroDivisionError:\n",
    "        precision = 0.0\n",
    "    try:\n",
    "        recall = true_pos/(true_pos + false_neg)\n",
    "    except ZeroDivisionError:\n",
    "        recall = 0.0\n",
    "\n",
    "    return (precision, recall)\n",
    "\n",
    "\n",
    "def get_model_scores_map(pred_boxes):\n",
    "    \"\"\"Creates a dictionary of from model_scores to image ids.\n",
    "    Args:\n",
    "        pred_boxes (dict): dict of dicts of 'boxes' and 'scores'\n",
    "    Returns:\n",
    "        dict: keys are model_scores and values are image ids (usually filenames)\n",
    "    \"\"\"\n",
    "    model_scores_map = {}\n",
    "    for img_id, val in pred_boxes.items():\n",
    "        for score in val['scores']:\n",
    "            if score not in model_scores_map.keys():\n",
    "                model_scores_map[score] = [img_id]\n",
    "            else:\n",
    "                model_scores_map[score].append(img_id)\n",
    "    return model_scores_map\n",
    "\n",
    "def get_avg_precision_at_iou(gt_boxes, pred_boxes, iou_thr=0.5):\n",
    "    \"\"\"Calculates average precision at given IoU threshold.\n",
    "    Args:\n",
    "        gt_boxes (list of list of floats): list of locations of ground truth\n",
    "            objects as [xmin, ymin, xmax, ymax]\n",
    "        pred_boxes (list of list of floats): list of locations of predicted\n",
    "            objects as [xmin, ymin, xmax, ymax]\n",
    "        iou_thr (float): value of IoU to consider as threshold for a\n",
    "            true prediction.\n",
    "    Returns:\n",
    "        dict: avg precision as well as summary info about the PR curve\n",
    "        Keys:\n",
    "            'avg_prec' (float): average precision for this IoU threshold\n",
    "            'precisions' (list of floats): precision value for the given\n",
    "                model_threshold\n",
    "            'recall' (list of floats): recall value for given\n",
    "                model_threshold\n",
    "            'models_thrs' (list of floats): model threshold value that\n",
    "                precision and recall were computed for.\n",
    "    \"\"\"\n",
    "    model_scores_map = get_model_scores_map(pred_boxes)\n",
    "    sorted_model_scores = sorted(model_scores_map.keys())\n",
    "\n",
    "    # Sort the predicted boxes in descending order (lowest scoring boxes first):\n",
    "    for img_id in pred_boxes.keys():\n",
    "        arg_sort = np.argsort(pred_boxes[img_id]['scores'])\n",
    "        pred_boxes[img_id]['scores'] = np.array(pred_boxes[img_id]['scores'])[arg_sort].tolist()\n",
    "        pred_boxes[img_id]['boxes'] = np.array(pred_boxes[img_id]['boxes'])[arg_sort].tolist()\n",
    "\n",
    "    pred_boxes_pruned = deepcopy(pred_boxes)\n",
    "\n",
    "    precisions = []\n",
    "    recalls = []\n",
    "    model_thrs = []\n",
    "    img_results = {}\n",
    "    # Loop over model score thresholds and calculate precision, recall\n",
    "    for ithr, model_score_thr in enumerate(sorted_model_scores[:-1]):\n",
    "        # On first iteration, define img_results for the first time:\n",
    "        img_ids = gt_boxes.keys() if ithr == 0 else model_scores_map[model_score_thr]\n",
    "        for img_id in img_ids:\n",
    "            gt_boxes_img = gt_boxes[img_id]\n",
    "            box_scores = pred_boxes_pruned[img_id]['scores']\n",
    "            start_idx = 0\n",
    "            for score in box_scores:\n",
    "                if score <= model_score_thr:\n",
    "                    pred_boxes_pruned[img_id]\n",
    "                    start_idx += 1\n",
    "                else:\n",
    "                    break\n",
    "\n",
    "            # Remove boxes, scores of lower than threshold scores:\n",
    "            pred_boxes_pruned[img_id]['scores'] = pred_boxes_pruned[img_id]['scores'][start_idx:]\n",
    "            pred_boxes_pruned[img_id]['boxes'] = pred_boxes_pruned[img_id]['boxes'][start_idx:]\n",
    "\n",
    "            # Recalculate image results for this image\n",
    "            img_results[img_id] = get_single_image_results(\n",
    "                gt_boxes_img, pred_boxes_pruned[img_id]['boxes'], iou_thr)\n",
    "\n",
    "        prec, rec = calc_precision_recall(img_results)\n",
    "        precisions.append(prec)\n",
    "        recalls.append(rec)\n",
    "        model_thrs.append(model_score_thr)\n",
    "\n",
    "    precisions = np.array(precisions)\n",
    "    recalls = np.array(recalls)\n",
    "    prec_at_rec = []\n",
    "    for recall_level in np.linspace(0.0, 1.0, 11):\n",
    "        try:\n",
    "            args = np.argwhere(recalls >= recall_level).flatten()\n",
    "            prec = max(precisions[args])\n",
    "        except ValueError:\n",
    "            prec = 0.0\n",
    "        prec_at_rec.append(prec)\n",
    "    avg_prec = np.mean(prec_at_rec)\n",
    "\n",
    "    return {\n",
    "        'avg_prec': avg_prec,\n",
    "        'precisions': precisions,\n",
    "        'recalls': recalls,\n",
    "        'model_thrs': model_thrs}\n",
    "\n",
    "\n",
    "def plot_pr_curve(\n",
    "    precisions, recalls, category='Person', label=None, color=None, ax=None):\n",
    "    \"\"\"Simple plotting helper function\"\"\"\n",
    "\n",
    "    if ax is None:\n",
    "        plt.figure(figsize=(10,8))\n",
    "        ax = plt.gca()\n",
    "\n",
    "    if color is None:\n",
    "        color = COLORS[0]\n",
    "    ax.scatter(recalls, precisions, label=label, s=20, color=color)\n",
    "    ax.set_xlabel('recall')\n",
    "    ax.set_ylabel('precision')\n",
    "    ax.set_title('Precision-Recall curve for {}'.format(category))\n",
    "    ax.set_xlim([0.0,1.3])\n",
    "    ax.set_ylim([0.0,1.2])\n",
    "    return ax"
   ]
  },
  {
   "cell_type": "markdown",
   "metadata": {},
   "source": [
    "### 上記のコード出力確認"
   ]
  },
  {
   "cell_type": "code",
   "execution_count": null,
   "metadata": {
    "jupyter": {
     "source_hidden": true
    }
   },
   "outputs": [],
   "source": [
    "if __name__ == \"__main__\":\n",
    "    \n",
    "    #1.jsonファイルの読み込み\n",
    "    with open('ground_truth_boxes.json') as infile:\n",
    "        gt_boxes = json.load(infile)\n",
    "\n",
    "    with open('predicted_boxes.json') as infile:\n",
    "        pred_boxes = json.load(infile)\n",
    "\n",
    "    # 2.Runs it for one IoU threshold\n",
    "    iou_thr = 0.7\n",
    "    start_time = time.time()\n",
    "    data = get_avg_precision_at_iou(gt_boxes, pred_boxes, iou_thr=iou_thr)\n",
    "    end_time = time.time()\n",
    "    print('Single IoU calculation took {:.4f} secs'.format(end_time - start_time))\n",
    "    print('avg precision: {:.4f}'.format(data['avg_prec']))\n",
    "\n",
    "    start_time = time.time()\n",
    "    ax = None\n",
    "    avg_precs = []\n",
    "    iou_thrs = []\n",
    "    for idx, iou_thr in enumerate(np.linspace(0.5, 0.95, 10)):\n",
    "        data = get_avg_precision_at_iou(gt_boxes, pred_boxes, iou_thr=iou_thr)\n",
    "        avg_precs.append(data['avg_prec'])\n",
    "        iou_thrs.append(iou_thr)\n",
    "\n",
    "        precisions = data['precisions']\n",
    "        recalls = data['recalls']\n",
    "        ax = plot_pr_curve(\n",
    "            precisions, recalls, label='{:.2f}'.format(iou_thr), color=COLORS[idx*2], ax=ax)\n",
    "\n",
    "    # prettify for printing:\n",
    "    avg_precs = [float('{:.4f}'.format(ap)) for ap in avg_precs]\n",
    "    iou_thrs = [float('{:.4f}'.format(thr)) for thr in iou_thrs]\n",
    "    print('map: {:.2f}'.format(100*np.mean(avg_precs)))\n",
    "    print('avg precs: ', avg_precs)\n",
    "    print('iou_thrs:  ', iou_thrs)\n",
    "    plt.legend(loc='upper right', title='IOU Thr', frameon=True)\n",
    "    for xval in np.linspace(0.0, 1.0, 11):\n",
    "        plt.vlines(xval, 0.0, 1.1, color='gray', alpha=0.3, linestyles='dashed')\n",
    "    end_time = time.time()\n",
    "    print('\\nPlotting and calculating mAP takes {:.4f} secs'.format(end_time - start_time))\n",
    "    plt.show()"
   ]
  },
  {
   "cell_type": "markdown",
   "metadata": {},
   "source": [
    "## 上記のデータ形式にあった出力形式を確認する。\n",
    "\n",
    "### 入力形式は以下（重要）\n",
    "\n",
    "\"\"\"\n",
    "\n",
    "name='img_00329.png'\\\n",
    "boxes=[[429, 434, 534, 506],[127,456,254,323]]\\\n",
    "scores= 0.0505\\\n",
    "#上記のようなデータだとすると\n",
    "temp_data={name:{\"boxes\":boxes,\"scores\":[scores]}}\\\n",
    "print(temp_data)\\\n",
    "#>>>{'img_00329.png': {'boxes': [[429, 434, 534, 506], [127, 456, 254, 323]],'scores': [0.0505]}}\n",
    "\n",
    "\"\"\"\n",
    "\n",
    "### 上記のdict形式であれば入力可能。\n",
    "\n"
   ]
  },
  {
   "cell_type": "code",
   "execution_count": 1169,
   "metadata": {},
   "outputs": [
    {
     "name": "stdout",
     "output_type": "stream",
     "text": [
      "{'sample_1': [[39, 63, 203, 112]], 'sample_2': [[75, 200, 120, 252]]}\n"
     ]
    }
   ],
   "source": [
    "# 擬似的なture　boundingbox\n",
    "true={'sample_1':[[39, 63, 203, 112]],\n",
    "      'sample_2': [[75, 200, 120, 252]],}\n",
    "print(true)"
   ]
  },
  {
   "cell_type": "code",
   "execution_count": 1170,
   "metadata": {},
   "outputs": [
    {
     "data": {
      "text/plain": [
       "{'sample_1': {'boxes': [[54, 66, 198, 114]], 'scores': [0.8]},\n",
       " 'sample_2': {'boxes': [[76, 210, 128, 266]], 'scores': [0.9]}}"
      ]
     },
     "execution_count": 1170,
     "metadata": {},
     "output_type": "execute_result"
    }
   ],
   "source": [
    "#擬似的なpredデータ\n",
    "name='sample_1'\n",
    "boxes=[[54, 66, 198, 114]]\n",
    "scores= 0.8\n",
    "#上記のようなデータだとすると\n",
    "temp_data_1={name:{\"boxes\":boxes,\"scores\":[scores]}}\n",
    "\n",
    "#擬似的なpredデータ\n",
    "name='sample_2'\n",
    "boxes=[[76, 210, 128, 266]]\n",
    "scores= 0.9\n",
    "#上記のようなデータだとすると\n",
    "temp_data_2={name:{\"boxes\":boxes,\"scores\":[scores]}}\n",
    "\n",
    "pred_={}\n",
    "pred_.update(temp_data_1)\n",
    "pred_.update(temp_data_2)\n",
    "pred_"
   ]
  },
  {
   "cell_type": "code",
   "execution_count": 1171,
   "metadata": {},
   "outputs": [
    {
     "data": {
      "text/plain": [
       "{'avg_prec': 0.5454545454545454,\n",
       " 'precisions': array([1.]),\n",
       " 'recalls': array([0.5]),\n",
       " 'model_thrs': [0.8]}"
      ]
     },
     "execution_count": 1171,
     "metadata": {},
     "output_type": "execute_result"
    }
   ],
   "source": [
    "#IOUまでの出力確認\n",
    "iou_thr = 0.5\n",
    "data = get_avg_precision_at_iou(true,pred_,iou_thr=iou_thr)\n",
    "data"
   ]
  },
  {
   "cell_type": "markdown",
   "metadata": {},
   "source": [
    "## mAPまでの出力は以下"
   ]
  },
  {
   "cell_type": "code",
   "execution_count": 1172,
   "metadata": {},
   "outputs": [
    {
     "name": "stdout",
     "output_type": "stream",
     "text": [
      "Single IoU calculation took 0.0010 secs\n",
      "avg precision: 0.0000\n"
     ]
    }
   ],
   "source": [
    "# Runs it for one IoU threshold\n",
    "iou_thr = 0.7\n",
    "start_time = time.time()\n",
    "data = get_avg_precision_at_iou(true,pred_, iou_thr=iou_thr)\n",
    "end_time = time.time()\n",
    "print('Single IoU calculation took {:.4f} secs'.format(end_time - start_time))\n",
    "print('avg precision: {:.4f}'.format(data['avg_prec']))"
   ]
  },
  {
   "cell_type": "code",
   "execution_count": 1173,
   "metadata": {},
   "outputs": [
    {
     "name": "stdout",
     "output_type": "stream",
     "text": [
      "map: 5.46\n",
      "avg precs:  [0.5455, 0.0, 0.0, 0.0, 0.0, 0.0, 0.0, 0.0, 0.0, 0.0]\n",
      "iou_thrs:   [0.5, 0.55, 0.6, 0.65, 0.7, 0.75, 0.8, 0.85, 0.9, 0.95]\n",
      "\n",
      "Plotting and calculating mAP takes 0.0530 secs\n"
     ]
    },
    {
     "data": {
      "image/png": "[encoded data removed]",
      "text/plain": [
       "<Figure size 720x576 with 1 Axes>"
      ]
     },
     "metadata": {},
     "output_type": "display_data"
    }
   ],
   "source": [
    "start_time = time.time()\n",
    "ax = None\n",
    "avg_precs = []\n",
    "iou_thrs = []\n",
    "for idx, iou_thr in enumerate(np.linspace(0.5, 0.95, 10)):\n",
    "    data = get_avg_precision_at_iou(true,pred_, iou_thr=iou_thr)\n",
    "    avg_precs.append(data['avg_prec'])\n",
    "    iou_thrs.append(iou_thr)\n",
    "\n",
    "    precisions = data['precisions']\n",
    "    recalls = data['recalls']\n",
    "    ax = plot_pr_curve(\n",
    "        precisions, recalls, label='{:.2f}'.format(iou_thr), color=COLORS[idx*2], ax=ax)\n",
    "\n",
    "# prettify for printing:\n",
    "avg_precs = [float('{:.4f}'.format(ap)) for ap in avg_precs]\n",
    "iou_thrs = [float('{:.4f}'.format(thr)) for thr in iou_thrs]\n",
    "print('map: {:.2f}'.format(100*np.mean(avg_precs)))\n",
    "print('avg precs: ', avg_precs)\n",
    "print('iou_thrs:  ', iou_thrs)\n",
    "plt.legend(loc='upper right', title='IOU Thr', frameon=True)\n",
    "for xval in np.linspace(0.0, 1.0, 11):\n",
    "    plt.vlines(xval, 0.0, 1.1, color='gray', alpha=0.3, linestyles='dashed')\n",
    "end_time = time.time()\n",
    "print('\\nPlotting and calculating mAP takes {:.4f} secs'.format(end_time - start_time))\n",
    "plt.show()"
   ]
  },
  {
   "cell_type": "code",
   "execution_count": 1174,
   "metadata": {},
   "outputs": [],
   "source": [
    "#データが少ないが出力確認"
   ]
  }
 ],
 "metadata": {
  "kernelspec": {
   "display_name": "Python 3",
   "language": "python",
   "name": "python3"
  },
  "language_info": {
   "codemirror_mode": {
    "name": "ipython",
    "version": 3
   },
   "file_extension": ".py",
   "mimetype": "text/x-python",
   "name": "python",
   "nbconvert_exporter": "python",
   "pygments_lexer": "ipython3",
   "version": "3.7.9"
  }
 },
 "nbformat": 4,
 "nbformat_minor": 4
}
